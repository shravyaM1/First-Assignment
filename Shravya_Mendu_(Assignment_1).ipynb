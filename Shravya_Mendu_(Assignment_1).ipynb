{
  "nbformat": 4,
  "nbformat_minor": 0,
  "metadata": {
    "colab": {
      "provenance": [],
      "authorship_tag": "ABX9TyN6yvY7wwZFFi20WEvn8znS",
      "include_colab_link": true
    },
    "kernelspec": {
      "name": "python3",
      "display_name": "Python 3"
    },
    "language_info": {
      "name": "python"
    }
  },
  "cells": [
    {
      "cell_type": "markdown",
      "metadata": {
        "id": "view-in-github",
        "colab_type": "text"
      },
      "source": [
        "<a href=\"https://colab.research.google.com/github/shravyaM1/First-Assignment/blob/main/Shravya_Mendu_(Assignment_1).ipynb\" target=\"_parent\"><img src=\"https://colab.research.google.com/assets/colab-badge.svg\" alt=\"Open In Colab\"/></a>"
      ]
    },
    {
      "cell_type": "code",
      "execution_count": null,
      "metadata": {
        "colab": {
          "base_uri": "https://localhost:8080/"
        },
        "id": "7Q2XAQbQZ774",
        "outputId": "c35bfebf-3d30-446d-9f89-d4fd0a0b32e9"
      },
      "outputs": [
        {
          "output_type": "stream",
          "name": "stdout",
          "text": [
            "Enter a string: Shravya\n",
            "Reversed string: ayrhS\n"
          ]
        }
      ],
      "source": [
        "# Input the string as a list of characters\n",
        "input_string = list(input(\"Enter a string: \"))\n",
        "\n",
        "# Delete at least 2 characters\n",
        "if len(input_string) >= 2:\n",
        "    del input_string[3:5]  # Deleting characters at index 1 and 2\n",
        "\n",
        "# Reverse the resultant string\n",
        "input_string.reverse()\n",
        "\n",
        "# Print the reversed string\n",
        "print(\"Reversed string:\", ''.join(input_string))"
      ]
    },
    {
      "cell_type": "code",
      "source": [
        "# Input two numbers from the user\n",
        "num1 = float(input(\"Enter the first number: \"))\n",
        "num2 = float(input(\"Enter the second number: \"))\n",
        "# Perform arithmetic operations\n",
        "addition = num1 + num2\n",
        "subtraction = num1 - num2\n",
        "multiplication = num1 * num2\n",
        "\n",
        "# Avoid division by zero\n",
        "if num2 != 0:\n",
        "    division = num1 / num2\n",
        "else:\n",
        "    division = \"Cannot divide by zero\"\n",
        "\n",
        "# Print the results\n",
        "print(\"Addition:\", addition)\n",
        "print(\"Subtraction:\", subtraction)\n",
        "print(\"Multiplication:\", multiplication)\n",
        "print(\"Division:\", division)"
      ],
      "metadata": {
        "colab": {
          "base_uri": "https://localhost:8080/"
        },
        "id": "XBtCBiNtaxIC",
        "outputId": "5f93d0e1-6df8-4402-b7f8-1b6b48e385d0"
      },
      "execution_count": null,
      "outputs": [
        {
          "output_type": "stream",
          "name": "stdout",
          "text": [
            "Enter the first number: 100\n",
            "Enter the second number: 10\n",
            "Addition: 110.0\n",
            "Subtraction: 90.0\n",
            "Multiplication: 1000.0\n",
            "Division: 10.0\n"
          ]
        }
      ]
    },
    {
      "cell_type": "code",
      "source": [
        "def replace_python(sentence):\n",
        "    new_sentence = sentence.replace('python', 'pythons')\n",
        "    return new_sentence\n",
        "\n",
        "# Input a sentence\n",
        "input_sentence = input(\"Enter a sentence: \")\n",
        "\n",
        "# Replace 'python' with 'pythons'\n",
        "result = replace_python(input_sentence)\n",
        "\n",
        "# Print the updated sentence\n",
        "print(\"Modified sentence:\", result)"
      ],
      "metadata": {
        "colab": {
          "base_uri": "https://localhost:8080/"
        },
        "id": "nW6YdjCXbHXH",
        "outputId": "aad97cbc-f7ef-4135-8a1e-dc737ce5e156"
      },
      "execution_count": null,
      "outputs": [
        {
          "output_type": "stream",
          "name": "stdout",
          "text": [
            "Enter a sentence: I like python\n",
            "Modified sentence: I like pythons\n"
          ]
        }
      ]
    },
    {
      "cell_type": "code",
      "source": [
        "def calculate_grade(score):\n",
        "    if score >= 90:\n",
        "        return 'A'\n",
        "    elif score >= 80:\n",
        "        return 'B'\n",
        "    elif score >= 70:\n",
        "        return 'C'\n",
        "    elif score >= 60:\n",
        "        return 'D'\n",
        "    else:\n",
        "        return 'F'\n",
        "\n",
        "# Input the class score\n",
        "class_score = int(input(\"Enter the class score: \"))\n",
        "\n",
        "# Calculate and print the corresponding letter grade\n",
        "letter_grade = calculate_grade(class_score)\n",
        "print(\"Letter Grade:\", letter_grade)\n"
      ],
      "metadata": {
        "colab": {
          "base_uri": "https://localhost:8080/"
        },
        "id": "_CCrkDTmcIIh",
        "outputId": "021cbdb0-5a2f-4ec5-dcdc-2dffc926d120"
      },
      "execution_count": null,
      "outputs": [
        {
          "output_type": "stream",
          "name": "stdout",
          "text": [
            "Enter the class score: 90\n",
            "Letter Grade: A\n"
          ]
        }
      ]
    }
  ]
}